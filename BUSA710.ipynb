{
  "nbformat": 4,
  "nbformat_minor": 0,
  "metadata": {
    "colab": {
      "provenance": []
    },
    "kernelspec": {
      "name": "python3",
      "display_name": "Python 3"
    },
    "language_info": {
      "name": "python"
    }
  },
  "cells": [
    {
      "cell_type": "code",
      "source": [
        "!pip install numpy==1.23.5\n",
        "!pip install scipy==1.10.1\n",
        "!pip install seaborn==0.12.2\n",
        "!pip install scikit-surprise --no-binary :all:"
      ],
      "metadata": {
        "colab": {
          "base_uri": "https://localhost:8080/",
          "height": 0
        },
        "id": "rKtY5Zyq94sr",
        "outputId": "1fb6f297-15f6-4846-f650-08e83f7f37b8"
      },
      "execution_count": 6,
      "outputs": [
        {
          "output_type": "stream",
          "name": "stdout",
          "text": [
            "Requirement already satisfied: numpy==1.23.5 in /usr/local/lib/python3.11/dist-packages (1.23.5)\n",
            "Requirement already satisfied: scipy==1.10.1 in /usr/local/lib/python3.11/dist-packages (1.10.1)\n",
            "Requirement already satisfied: numpy<1.27.0,>=1.19.5 in /usr/local/lib/python3.11/dist-packages (from scipy==1.10.1) (1.23.5)\n",
            "Requirement already satisfied: seaborn==0.12.2 in /usr/local/lib/python3.11/dist-packages (0.12.2)\n",
            "Requirement already satisfied: numpy!=1.24.0,>=1.17 in /usr/local/lib/python3.11/dist-packages (from seaborn==0.12.2) (1.23.5)\n",
            "Requirement already satisfied: pandas>=0.25 in /usr/local/lib/python3.11/dist-packages (from seaborn==0.12.2) (2.2.2)\n",
            "Requirement already satisfied: matplotlib!=3.6.1,>=3.1 in /usr/local/lib/python3.11/dist-packages (from seaborn==0.12.2) (3.10.0)\n",
            "Requirement already satisfied: contourpy>=1.0.1 in /usr/local/lib/python3.11/dist-packages (from matplotlib!=3.6.1,>=3.1->seaborn==0.12.2) (1.3.2)\n",
            "Requirement already satisfied: cycler>=0.10 in /usr/local/lib/python3.11/dist-packages (from matplotlib!=3.6.1,>=3.1->seaborn==0.12.2) (0.12.1)\n",
            "Requirement already satisfied: fonttools>=4.22.0 in /usr/local/lib/python3.11/dist-packages (from matplotlib!=3.6.1,>=3.1->seaborn==0.12.2) (4.57.0)\n",
            "Requirement already satisfied: kiwisolver>=1.3.1 in /usr/local/lib/python3.11/dist-packages (from matplotlib!=3.6.1,>=3.1->seaborn==0.12.2) (1.4.8)\n",
            "Requirement already satisfied: packaging>=20.0 in /usr/local/lib/python3.11/dist-packages (from matplotlib!=3.6.1,>=3.1->seaborn==0.12.2) (24.2)\n",
            "Requirement already satisfied: pillow>=8 in /usr/local/lib/python3.11/dist-packages (from matplotlib!=3.6.1,>=3.1->seaborn==0.12.2) (11.2.1)\n",
            "Requirement already satisfied: pyparsing>=2.3.1 in /usr/local/lib/python3.11/dist-packages (from matplotlib!=3.6.1,>=3.1->seaborn==0.12.2) (3.2.3)\n",
            "Requirement already satisfied: python-dateutil>=2.7 in /usr/local/lib/python3.11/dist-packages (from matplotlib!=3.6.1,>=3.1->seaborn==0.12.2) (2.9.0.post0)\n",
            "Requirement already satisfied: pytz>=2020.1 in /usr/local/lib/python3.11/dist-packages (from pandas>=0.25->seaborn==0.12.2) (2025.2)\n",
            "Requirement already satisfied: tzdata>=2022.7 in /usr/local/lib/python3.11/dist-packages (from pandas>=0.25->seaborn==0.12.2) (2025.2)\n",
            "Requirement already satisfied: six>=1.5 in /usr/local/lib/python3.11/dist-packages (from python-dateutil>=2.7->matplotlib!=3.6.1,>=3.1->seaborn==0.12.2) (1.17.0)\n",
            "Requirement already satisfied: scikit-surprise in /usr/local/lib/python3.11/dist-packages (1.1.4)\n",
            "Requirement already satisfied: joblib>=1.2.0 in /usr/local/lib/python3.11/dist-packages (from scikit-surprise) (1.4.2)\n",
            "Requirement already satisfied: numpy>=1.19.5 in /usr/local/lib/python3.11/dist-packages (from scikit-surprise) (1.23.5)\n",
            "Requirement already satisfied: scipy>=1.6.0 in /usr/local/lib/python3.11/dist-packages (from scikit-surprise) (1.10.1)\n"
          ]
        }
      ]
    },
    {
      "cell_type": "code",
      "execution_count": 2,
      "metadata": {
        "colab": {
          "base_uri": "https://localhost:8080/",
          "height": 0
        },
        "id": "G4nV3UBWEYoE",
        "outputId": "196c3913-7fc5-41f8-a334-ede8fbc46b62"
      },
      "outputs": [
        {
          "output_type": "stream",
          "name": "stdout",
          "text": [
            "Requirement already satisfied: scikit-surprise in /usr/local/lib/python3.11/dist-packages (1.1.4)\n",
            "Requirement already satisfied: joblib>=1.2.0 in /usr/local/lib/python3.11/dist-packages (from scikit-surprise) (1.4.2)\n",
            "Requirement already satisfied: numpy>=1.19.5 in /usr/local/lib/python3.11/dist-packages (from scikit-surprise) (1.23.5)\n",
            "Requirement already satisfied: scipy>=1.6.0 in /usr/local/lib/python3.11/dist-packages (from scikit-surprise) (1.10.1)\n",
            "Mounted at /content/drive\n"
          ]
        },
        {
          "output_type": "stream",
          "name": "stderr",
          "text": [
            "<ipython-input-2-67fd893cb166>:25: SettingWithCopyWarning: \n",
            "A value is trying to be set on a copy of a slice from a DataFrame.\n",
            "Try using .loc[row_indexer,col_indexer] = value instead\n",
            "\n",
            "See the caveats in the documentation: https://pandas.pydata.org/pandas-docs/stable/user_guide/indexing.html#returning-a-view-versus-a-copy\n",
            "  data[\"CustomerID\"] = data[\"CustomerID\"].astype(int)\n"
          ]
        }
      ],
      "source": [
        "# Installing surprise\n",
        "!pip install scikit-surprise\n",
        "\n",
        "# Importing necessary libraries.\n",
        "import pandas as pd\n",
        "import numpy as np\n",
        "import matplotlib.pyplot as plt\n",
        "import seaborn as sns\n",
        "from google.colab import drive\n",
        "from google.colab import files\n",
        "from surprise import Dataset, Reader, SVD\n",
        "from surprise.model_selection import train_test_split\n",
        "\n",
        "# Loading dataset\n",
        "drive.mount('/content/drive')\n",
        "data = pd.read_csv('/content/drive/My Drive/Colab Notebooks/BUSA710/OnlineRetail.csv', encoding='latin-1')\n",
        "\n",
        "# Dropping rows with missing CustomerID or Description\n",
        "data = data.dropna(subset=[\"CustomerID\", \"Description\"])\n",
        "\n",
        "# Removing canceled orders (InvoiceNo starting with 'C')\n",
        "data = data[~data[\"InvoiceNo\"].astype(str).str.startswith(\"C\")]\n",
        "\n",
        "# Converting CustomerID to int\n",
        "data[\"CustomerID\"] = data[\"CustomerID\"].astype(int)"
      ]
    },
    {
      "cell_type": "code",
      "source": [
        "# Capping Quantity to 5 for a 1–5 rating scale\n",
        "data[\"rating\"] = data[\"Quantity\"].clip(upper=5)\n",
        "\n",
        "# Previewing cleaned data\n",
        "data_cleaned = data[[\"CustomerID\", \"StockCode\", \"Description\", \"rating\"]]\n",
        "data_cleaned.head()\n",
        "\n",
        "# Preparing data for model\n",
        "reader = Reader(rating_scale=(1, 5))\n",
        "surprise_data = Dataset.load_from_df(data_cleaned[[\"CustomerID\", \"StockCode\", \"rating\"]], reader)\n",
        "trainset, testset = train_test_split(surprise_data, test_size=0.2)\n",
        "\n",
        "# Training model using SVD\n",
        "model = SVD()\n",
        "model.fit(trainset)"
      ],
      "metadata": {
        "colab": {
          "base_uri": "https://localhost:8080/",
          "height": 0
        },
        "id": "CJozNCjzVx2v",
        "outputId": "dbc98056-f707-4346-f7aa-bbf1127d30f3"
      },
      "execution_count": 3,
      "outputs": [
        {
          "output_type": "execute_result",
          "data": {
            "text/plain": [
              "<surprise.prediction_algorithms.matrix_factorization.SVD at 0x7d0ea41ee950>"
            ]
          },
          "metadata": {},
          "execution_count": 3
        }
      ]
    },
    {
      "cell_type": "code",
      "source": [
        "# Predicting a rating\n",
        "pred = model.predict(uid=17850, iid='84029G')\n",
        "print(f\"Predicted rating for user 17850 and product 84029G: {pred.est:.2f}\")\n",
        "\n",
        "# Recommending top-N products to a user\n",
        "def get_top_n_recommendations(user_id, model, data, n=5):\n",
        "    product_ids = data[\"StockCode\"].unique()\n",
        "    predictions = []\n",
        "    for pid in product_ids:\n",
        "        pred = model.predict(user_id, pid)\n",
        "        predictions.append((pid, pred.est))\n",
        "    top_n = sorted(predictions, key=lambda x: x[1], reverse=True)[:n]\n",
        "    return top_n\n",
        "\n",
        "top_recs = get_top_n_recommendations(17850, model, data_cleaned)\n",
        "print(\"Top recommendations for user 17850:\")\n",
        "for pid, score in top_recs:\n",
        "    desc = data_cleaned[data_cleaned[\"StockCode\"] == pid][\"Description\"].iloc[0]\n",
        "    print(f\"{desc} (Predicted Rating: {score:.2f})\")"
      ],
      "metadata": {
        "colab": {
          "base_uri": "https://localhost:8080/",
          "height": 0
        },
        "id": "2GsawG-HV7JE",
        "outputId": "cbdedb97-7072-4052-86fe-ddf83fe0909a"
      },
      "execution_count": 4,
      "outputs": [
        {
          "output_type": "stream",
          "name": "stdout",
          "text": [
            "Predicted rating for user 17850 and product 84029G: 4.97\n",
            "Top recommendations for user 17850:\n",
            "WHITE HANGING HEART T-LIGHT HOLDER (Predicted Rating: 5.00)\n",
            "CREAM CUPID HEARTS COAT HANGER (Predicted Rating: 5.00)\n",
            "HAND WARMER UNION JACK (Predicted Rating: 5.00)\n",
            "ASSORTED COLOUR BIRD ORNAMENT (Predicted Rating: 5.00)\n",
            "STARS GIFT TAPE  (Predicted Rating: 5.00)\n"
          ]
        }
      ]
    },
    {
      "cell_type": "code",
      "source": [
        "# Creating a list of the top 100 most frequently purchased products\n",
        "popular_products = (\n",
        "    data_cleaned.groupby(\"StockCode\")\n",
        "    .agg({'Description': 'first', 'rating': 'count'})\n",
        "    .sort_values('rating', ascending=False)\n",
        "    .head(100)\n",
        "    .reset_index()\n",
        ")\n",
        "\n",
        "# Saving it as a CSV file\n",
        "popular_products.to_csv(\"popular_products.csv\", index=False)\n",
        "\n",
        "# Downloading the file to your computer\n",
        "from google.colab import files\n",
        "files.download(\"popular_products.csv\")"
      ],
      "metadata": {
        "colab": {
          "base_uri": "https://localhost:8080/",
          "height": 17
        },
        "id": "Onhsu60QH45j",
        "outputId": "02ff1d21-32bc-49f4-9a35-c7852ca9786b"
      },
      "execution_count": 5,
      "outputs": [
        {
          "output_type": "display_data",
          "data": {
            "text/plain": [
              "<IPython.core.display.Javascript object>"
            ],
            "application/javascript": [
              "\n",
              "    async function download(id, filename, size) {\n",
              "      if (!google.colab.kernel.accessAllowed) {\n",
              "        return;\n",
              "      }\n",
              "      const div = document.createElement('div');\n",
              "      const label = document.createElement('label');\n",
              "      label.textContent = `Downloading \"${filename}\": `;\n",
              "      div.appendChild(label);\n",
              "      const progress = document.createElement('progress');\n",
              "      progress.max = size;\n",
              "      div.appendChild(progress);\n",
              "      document.body.appendChild(div);\n",
              "\n",
              "      const buffers = [];\n",
              "      let downloaded = 0;\n",
              "\n",
              "      const channel = await google.colab.kernel.comms.open(id);\n",
              "      // Send a message to notify the kernel that we're ready.\n",
              "      channel.send({})\n",
              "\n",
              "      for await (const message of channel.messages) {\n",
              "        // Send a message to notify the kernel that we're ready.\n",
              "        channel.send({})\n",
              "        if (message.buffers) {\n",
              "          for (const buffer of message.buffers) {\n",
              "            buffers.push(buffer);\n",
              "            downloaded += buffer.byteLength;\n",
              "            progress.value = downloaded;\n",
              "          }\n",
              "        }\n",
              "      }\n",
              "      const blob = new Blob(buffers, {type: 'application/binary'});\n",
              "      const a = document.createElement('a');\n",
              "      a.href = window.URL.createObjectURL(blob);\n",
              "      a.download = filename;\n",
              "      div.appendChild(a);\n",
              "      a.click();\n",
              "      div.remove();\n",
              "    }\n",
              "  "
            ]
          },
          "metadata": {}
        },
        {
          "output_type": "display_data",
          "data": {
            "text/plain": [
              "<IPython.core.display.Javascript object>"
            ],
            "application/javascript": [
              "download(\"download_d7799609-1b1b-4422-88cd-9c9abd136ef0\", \"popular_products.csv\", 3781)"
            ]
          },
          "metadata": {}
        }
      ]
    }
  ]
}